{
 "cells": [
  {
   "cell_type": "code",
   "execution_count": 1,
   "metadata": {
    "id": "YInyITf6o8eB"
   },
   "outputs": [],
   "source": [
    "import numpy as np\n",
    "import pandas as pd\n",
    "import requests\n",
    "import json"
   ]
  },
  {
   "cell_type": "code",
   "execution_count": 2,
   "metadata": {
    "id": "h2xVpx9rsbLm"
   },
   "outputs": [
    {
     "name": "stdout",
     "output_type": "stream",
     "text": [
      "test\n",
      "  Invoice/Item Number        Date  Store Number  \\\n",
      "0     INV-09962700007  01/23/2018          4310   \n",
      "\n",
      "                       Store Name            Address      City  Zip Code  \\\n",
      "0  Fareway Stores #502 / Cherokee  205 West Bluff St  Cherokee   51012.0   \n",
      "\n",
      "                Store Location  County Number    County  ...  Item Number  \\\n",
      "0  POINT (-95.551866 42.75508)           18.0  CHEROKEE  ...        14192   \n",
      "\n",
      "            Item Description  Pack Bottle Volume (ml)  State Bottle Cost  \\\n",
      "0  Pendleton Canadian Whisky    12                750               13.1   \n",
      "\n",
      "  State Bottle Retail  Bottles Sold  Sale (Dollars)  Volume Sold (Liters)  \\\n",
      "0               19.65             3           58.95                  2.25   \n",
      "\n",
      "   Volume Sold (Gallons)  \n",
      "0                   0.59  \n",
      "\n",
      "[1 rows x 24 columns]\n"
     ]
    }
   ],
   "source": [
    "url = \"../../../datasets/Iowa_Liquor_Sales.csv\"\n",
    "alc_df = pd.read_csv(url, nrows=10000)\n",
    "print(\"test\")\n",
    "print(alc_df.head(1))"
   ]
  },
  {
   "cell_type": "code",
   "execution_count": 11,
   "metadata": {},
   "outputs": [
    {
     "name": "stdout",
     "output_type": "stream",
     "text": [
      "['01/23/2018' '01/25/2018' '01/22/2018' '01/24/2018' '01/19/2018'\n",
      " '01/26/2018' '01/31/2018' '01/30/2018' '01/29/2018' '02/01/2018'\n",
      " '02/06/2018' '02/02/2018' '02/07/2018' '02/09/2018' '02/05/2018'\n",
      " '02/13/2018']\n"
     ]
    }
   ],
   "source": [
    "print(alc_df[\"Date\"].unique())"
   ]
  },
  {
   "cell_type": "code",
   "execution_count": 81,
   "metadata": {
    "id": "5kSa3M-_tR1w"
   },
   "outputs": [
    {
     "name": "stdout",
     "output_type": "stream",
     "text": [
      "    fips geographicname                     year  population  \\\n",
      "0  19169   Story County  2011-07-01T00:00:00.000       91136   \n",
      "\n",
      "                    primary_point County  \n",
      "0  POINT (-93.4650448 42.0362415)  STORY  \n"
     ]
    }
   ],
   "source": [
    "def return_name(string):\n",
    "  return \" \".join(string.split(\" \")[:-1])\n",
    "\n",
    "pop_df= pd.read_csv(\"https://data.iowa.gov/resource/qtnr-zsrc.csv\")\n",
    "pop_df[\"County\"] = pop_df[\"geographicname\"].apply(return_name).str.upper()\n",
    "print(pop_df.head(1))\n"
   ]
  },
  {
   "cell_type": "code",
   "execution_count": 82,
   "metadata": {
    "id": "EfbB4tNCu-ZX"
   },
   "outputs": [
    {
     "data": {
      "text/plain": [
       "Index(['fips', 'geographicname', 'year', 'population', 'primary_point',\n",
       "       'County', 'Year'],\n",
       "      dtype='object')"
      ]
     },
     "execution_count": 82,
     "metadata": {},
     "output_type": "execute_result"
    }
   ],
   "source": [
    "def return_year(string):\n",
    "  return string.split(\"-\")[0]\n",
    "\n",
    "def return_year_slash(string):\n",
    "  return string.split(\"/\")[2]\n",
    "\n",
    "pop_df[\"Year\"] = pop_df[\"year\"].apply(return_year)\n",
    "pop_df.columns"
   ]
  },
  {
   "cell_type": "code",
   "execution_count": 83,
   "metadata": {
    "id": "FIfw7mLCv6x5"
   },
   "outputs": [],
   "source": [
    "alc_df[\"Year\"] = alc_df[\"Date\"].apply(return_year_slash)\n",
    "alc_df[\"County\"] = alc_df[\"County\"].str.upper()\n"
   ]
  },
  {
   "cell_type": "code",
   "execution_count": 84,
   "metadata": {
    "colab": {
     "base_uri": "https://localhost:8080/"
    },
    "id": "fF2E_JW3uiKg",
    "outputId": "c61cb51c-a993-43e0-ffcb-c2ba33b570bf"
   },
   "outputs": [
    {
     "data": {
      "text/plain": [
       "array(['CHEROKEE', 'BLACK HAWK', 'MARSHALL', 'CLAYTON', 'STORY',\n",
       "       'JOHNSON', 'LINN', 'POLK', 'PLYMOUTH', 'LUCAS', 'DUBUQUE',\n",
       "       'CLINTON', 'SCOTT', 'PALO ALTO', 'DALLAS', 'WEBSTER', 'BOONE',\n",
       "       'TAMA', 'BREMER', 'CERRO GORD', 'POTTAWATTA', 'MAHASKA',\n",
       "       'WINNESHIEK', 'KOSSUTH', 'MUSCATINE', 'LYON', 'WOODBURY', 'MONONA',\n",
       "       'DICKINSON', 'HARRISON', 'MILLS', 'CRAWFORD', 'OBRIEN',\n",
       "       'DES MOINES', 'WASHINGTON', 'APPANOOSE', 'BUTLER', 'WARREN',\n",
       "       'CLAY', nan, 'GRUNDY', 'CARROLL', 'SIOUX', 'BENTON', 'OSCEOLA',\n",
       "       'ALLAMAKEE', 'FRANKLIN', 'EMMET', 'WAPELLO', 'MARION',\n",
       "       'POCAHONTAS', 'HUMBOLDT', 'IOWA', 'MADISON', 'LEE', 'DAVIS',\n",
       "       'BUCHANAN', 'BUENA VIST', 'WRIGHT', 'JACKSON', 'IDA', 'JONES',\n",
       "       'FLOYD', 'POWESHIEK', 'CLARKE', 'WAYNE', 'UNION', 'SAC', 'CALHOUN',\n",
       "       'CASS', 'WORTH', 'JASPER', 'PAGE', 'HANCOCK', 'GUTHRIE',\n",
       "       'MONTGOMERY', 'DELAWARE', 'LOUISA', 'HARDIN', 'JEFFERSON',\n",
       "       'FAYETTE', 'MITCHELL', 'TAYLOR', 'CHICKASAW', 'DECATUR', 'MONROE',\n",
       "       'HENRY', 'CEDAR', 'HAMILTON', 'SHELBY', 'RINGGOLD', 'VAN BUREN',\n",
       "       'FREMONT', 'HOWARD', 'WINNEBAGO', 'GREENE', 'KEOKUK', 'ADAIR',\n",
       "       'ADAMS', 'AUDUBON'], dtype=object)"
      ]
     },
     "execution_count": 84,
     "metadata": {},
     "output_type": "execute_result"
    }
   ],
   "source": [
    "\n",
    "alc_df[\"County\"].unique()\n"
   ]
  },
  {
   "cell_type": "code",
   "execution_count": 85,
   "metadata": {
    "colab": {
     "base_uri": "https://localhost:8080/"
    },
    "id": "l-ZcxAt1xvgQ",
    "outputId": "47775326-b13c-481b-fb7a-75d6698dd943"
   },
   "outputs": [
    {
     "data": {
      "text/plain": [
       "array(['STORY', 'FAYETTE', 'HOWARD', 'APPANOOSE', 'CLAYTON', 'JOHNSON',\n",
       "       'MONONA', 'SIOUX', 'JEFFERSON', 'LINN', 'RINGGOLD', 'POCAHONTAS',\n",
       "       'POLK', 'HANCOCK', 'WEBSTER', 'TAMA', 'CEDAR', \"O'BRIEN\", 'EMMET',\n",
       "       'GUTHRIE', 'PALO ALTO', 'CHICKASAW', 'OSCEOLA', 'MONTGOMERY',\n",
       "       'BLACK HAWK', 'WASHINGTON', 'LYON', 'LUCAS', 'DICKINSON', 'MILLS',\n",
       "       'BENTON', 'DUBUQUE', 'JONES', 'PAGE', 'SCOTT', 'WAYNE',\n",
       "       'VAN BUREN', 'CRAWFORD', 'POTTAWATTAMIE', 'LEE', 'CHEROKEE',\n",
       "       'TAYLOR', 'GREENE', 'MAHASKA', 'HARRISON', 'HUMBOLDT',\n",
       "       'CERRO GORDO', 'CALHOUN', 'UNION', 'WINNEBAGO', 'MITCHELL',\n",
       "       'DAVIS', 'DALLAS', 'KOSSUTH', 'JACKSON', 'ALLAMAKEE', 'BUTLER',\n",
       "       'MUSCATINE', 'IOWA', 'ADAIR', 'DELAWARE', 'FLOYD', 'WARREN',\n",
       "       'WORTH', 'AUDUBON', 'MADISON', 'CLAY', 'BREMER', 'DECATUR',\n",
       "       'LOUISA', 'GRUNDY', 'WOODBURY', 'FRANKLIN', 'BUENA VISTA',\n",
       "       'CARROLL', 'KEOKUK', 'CLARKE', 'SHELBY', 'SAC', 'JASPER',\n",
       "       'POWESHIEK', 'HENRY', 'CLINTON', 'FREMONT', 'MARSHALL', 'WRIGHT',\n",
       "       'WAPELLO', 'PLYMOUTH', 'BOONE', 'MONROE', 'HAMILTON', 'MARION',\n",
       "       'ADAMS', 'WINNESHIEK', 'IDA', 'HARDIN', 'BUCHANAN', 'CASS',\n",
       "       'DES MOINES'], dtype=object)"
      ]
     },
     "execution_count": 85,
     "metadata": {},
     "output_type": "execute_result"
    }
   ],
   "source": [
    "pop_df[\"County\"].unique()\n"
   ]
  },
  {
   "cell_type": "code",
   "execution_count": 86,
   "metadata": {
    "colab": {
     "base_uri": "https://localhost:8080/",
     "height": 424
    },
    "id": "nnIN9ZHi23YD",
    "outputId": "482b4e4c-a3c8-40da-888b-3088fd8d438b"
   },
   "outputs": [
    {
     "data": {
      "text/html": [
       "<div>\n",
       "<style scoped>\n",
       "    .dataframe tbody tr th:only-of-type {\n",
       "        vertical-align: middle;\n",
       "    }\n",
       "\n",
       "    .dataframe tbody tr th {\n",
       "        vertical-align: top;\n",
       "    }\n",
       "\n",
       "    .dataframe thead th {\n",
       "        text-align: right;\n",
       "    }\n",
       "</style>\n",
       "<table border=\"1\" class=\"dataframe\">\n",
       "  <thead>\n",
       "    <tr style=\"text-align: right;\">\n",
       "      <th></th>\n",
       "      <th>county</th>\n",
       "      <th>population</th>\n",
       "      <th>year</th>\n",
       "    </tr>\n",
       "  </thead>\n",
       "  <tbody>\n",
       "    <tr>\n",
       "      <th>0</th>\n",
       "      <td>POLK</td>\n",
       "      <td>496844</td>\n",
       "      <td>2021</td>\n",
       "    </tr>\n",
       "    <tr>\n",
       "      <th>1</th>\n",
       "      <td>LINN</td>\n",
       "      <td>228939</td>\n",
       "      <td>2021</td>\n",
       "    </tr>\n",
       "    <tr>\n",
       "      <th>2</th>\n",
       "      <td>SCOTT</td>\n",
       "      <td>174170</td>\n",
       "      <td>2021</td>\n",
       "    </tr>\n",
       "    <tr>\n",
       "      <th>3</th>\n",
       "      <td>JOHNSON</td>\n",
       "      <td>154748</td>\n",
       "      <td>2021</td>\n",
       "    </tr>\n",
       "    <tr>\n",
       "      <th>4</th>\n",
       "      <td>BLACK HAWK</td>\n",
       "      <td>130368</td>\n",
       "      <td>2021</td>\n",
       "    </tr>\n",
       "    <tr>\n",
       "      <th>...</th>\n",
       "      <td>...</td>\n",
       "      <td>...</td>\n",
       "      <td>...</td>\n",
       "    </tr>\n",
       "    <tr>\n",
       "      <th>95</th>\n",
       "      <td>TAYLOR</td>\n",
       "      <td>5868</td>\n",
       "      <td>2021</td>\n",
       "    </tr>\n",
       "    <tr>\n",
       "      <th>96</th>\n",
       "      <td>AUDUBON</td>\n",
       "      <td>5635</td>\n",
       "      <td>2021</td>\n",
       "    </tr>\n",
       "    <tr>\n",
       "      <th>97</th>\n",
       "      <td>RINGGOLD</td>\n",
       "      <td>4639</td>\n",
       "      <td>2021</td>\n",
       "    </tr>\n",
       "    <tr>\n",
       "      <th>98</th>\n",
       "      <td>ADAMS</td>\n",
       "      <td>3641</td>\n",
       "      <td>2021</td>\n",
       "    </tr>\n",
       "    <tr>\n",
       "      <th>99</th>\n",
       "      <td>UNITED STATES CENSUS BUREAU. B01001 SEX BY AGE...</td>\n",
       "      <td>United States Census Bureau. B01001 SEX BY AGE...</td>\n",
       "      <td>2021</td>\n",
       "    </tr>\n",
       "  </tbody>\n",
       "</table>\n",
       "<p>100 rows × 3 columns</p>\n",
       "</div>"
      ],
      "text/plain": [
       "                                               county  \\\n",
       "0                                                POLK   \n",
       "1                                                LINN   \n",
       "2                                               SCOTT   \n",
       "3                                             JOHNSON   \n",
       "4                                          BLACK HAWK   \n",
       "..                                                ...   \n",
       "95                                             TAYLOR   \n",
       "96                                            AUDUBON   \n",
       "97                                           RINGGOLD   \n",
       "98                                              ADAMS   \n",
       "99  UNITED STATES CENSUS BUREAU. B01001 SEX BY AGE...   \n",
       "\n",
       "                                           population  year  \n",
       "0                                              496844  2021  \n",
       "1                                              228939  2021  \n",
       "2                                              174170  2021  \n",
       "3                                              154748  2021  \n",
       "4                                              130368  2021  \n",
       "..                                                ...   ...  \n",
       "95                                               5868  2021  \n",
       "96                                               5635  2021  \n",
       "97                                               4639  2021  \n",
       "98                                               3641  2021  \n",
       "99  United States Census Bureau. B01001 SEX BY AGE...  2021  \n",
       "\n",
       "[100 rows x 3 columns]"
      ]
     },
     "execution_count": 86,
     "metadata": {},
     "output_type": "execute_result"
    }
   ],
   "source": [
    "df = pd.read_html(\"https://www.iowa-demographics.com/counties_by_population\")[0]\n",
    "df[\"year\"] = \"2021\"\n",
    "df[\"county\"] = df[\"County\"].apply(return_name).str.upper()\n",
    "df[\"population\"] = df[\"Population\"]\n",
    "df = df[[\"county\", \"population\", \"year\"]]\n",
    "df"
   ]
  },
  {
   "cell_type": "code",
   "execution_count": 87,
   "metadata": {
    "id": "xGQj1RBH4Z02"
   },
   "outputs": [
    {
     "name": "stdout",
     "output_type": "stream",
     "text": [
      "['2011' '1995' '2002' '1999' '2012' '2020' '1992' '2006' '2018' '2016'\n",
      " '1996' '1991' '2014' '2009' '2007' '2008' '2001' '1994' '2017' '2019'\n",
      " '1993' '2000' '1998' '2013' '1990' '2004' '2010' '2003' '1997' '2005'\n",
      " '2015' nan]\n"
     ]
    }
   ],
   "source": [
    "pop_df = pop_df[[\"County\", \"population\", \"Year\"]]\n",
    "pop_df = pd.concat([pop_df, df])\n",
    "print(pop_df[\"Year\"].unique())"
   ]
  },
  {
   "cell_type": "code",
   "execution_count": 88,
   "metadata": {},
   "outputs": [
    {
     "name": "stdout",
     "output_type": "stream",
     "text": [
      "Index(['Invoice/Item Number', 'Date', 'Store Number', 'Store Name', 'Address',\n",
      "       'City', 'Zip Code', 'Store Location', 'County Number', 'County',\n",
      "       'Category', 'Category Name', 'Vendor Number', 'Vendor Name',\n",
      "       'Item Number', 'Item Description', 'Pack', 'Bottle Volume (ml)',\n",
      "       'State Bottle Cost', 'State Bottle Retail', 'Bottles Sold',\n",
      "       'Sale (Dollars)', 'Volume Sold (Liters)', 'Volume Sold (Gallons)',\n",
      "       'Year'],\n",
      "      dtype='object')\n",
      "Index(['County', 'population', 'Year', 'county', 'year'], dtype='object')\n"
     ]
    }
   ],
   "source": [
    "print(alc_df.columns)\n",
    "print(pop_df.columns)"
   ]
  },
  {
   "cell_type": "code",
   "execution_count": 89,
   "metadata": {},
   "outputs": [
    {
     "name": "stdout",
     "output_type": "stream",
     "text": [
      "  Invoice/Item Number        Date  Store Number  \\\n",
      "0     INV-09962700007  01/23/2018          4310   \n",
      "\n",
      "                       Store Name            Address      City  Zip Code  \\\n",
      "0  Fareway Stores #502 / Cherokee  205 West Bluff St  Cherokee   51012.0   \n",
      "\n",
      "                Store Location  County Number    County  ...  \\\n",
      "0  POINT (-95.551866 42.75508)           18.0  CHEROKEE  ...   \n",
      "\n",
      "            Item Description Pack  Bottle Volume (ml) State Bottle Cost  \\\n",
      "0  Pendleton Canadian Whisky   12                 750              13.1   \n",
      "\n",
      "   State Bottle Retail Bottles Sold  Sale (Dollars)  Volume Sold (Liters)  \\\n",
      "0                19.65            3           58.95                  2.25   \n",
      "\n",
      "   Volume Sold (Gallons)  Year  \n",
      "0                   0.59  2018  \n",
      "\n",
      "[1 rows x 25 columns]\n",
      "  County population  Year county year\n",
      "0  STORY      91136  2011    NaN  NaN\n"
     ]
    }
   ],
   "source": [
    "print(alc_df.head(1))\n",
    "print(pop_df.head(1))"
   ]
  },
  {
   "cell_type": "code",
   "execution_count": 93,
   "metadata": {
    "colab": {
     "base_uri": "https://localhost:8080/",
     "height": 525
    },
    "id": "hbqmk3iby4pd",
    "outputId": "595f3b0a-cb6a-480b-8ec8-082cfb2b420a"
   },
   "outputs": [
    {
     "name": "stdout",
     "output_type": "stream",
     "text": [
      "     Invoice/Item Number        Date  Store Number  \\\n",
      "0        INV-09962700007  01/23/2018          4310   \n",
      "1        INV-09965700080  01/23/2018          2572   \n",
      "2        INV-10018300132  01/25/2018          2544   \n",
      "3        INV-10004400033  01/25/2018          2130   \n",
      "4        INV-09923000033  01/22/2018          5373   \n",
      "...                  ...         ...           ...   \n",
      "9995     INV-10081500013  01/30/2018          2588   \n",
      "9996     INV-10053000136  01/29/2018          3612   \n",
      "9997     INV-10092800069  01/30/2018          2587   \n",
      "9998     INV-10075900047  01/29/2018          4829   \n",
      "9999     INV-10052300004  01/29/2018          5236   \n",
      "\n",
      "                                  Store Name                 Address  \\\n",
      "0             Fareway Stores #502 / Cherokee       205 West Bluff St   \n",
      "1            Hy-Vee Food Store / Cedar Falls         6301 University   \n",
      "2           Hy-Vee Food Store / Marshalltown        802 South Center   \n",
      "3                       Sycamore Convenience            617 Sycamore   \n",
      "4                           Sodes Green Acre  7 Goethe Street Ste. B   \n",
      "...                                      ...                     ...   \n",
      "9995  Hy-Vee Food and Drug #6 / Cedar Rapids    4035 Mt Vernon Rd SE   \n",
      "9996              B and C Liquor / Maquoketa             509 E Platt   \n",
      "9997            Hy-Vee Food Store / Johnston     5750 Merle Hay Road   \n",
      "9998                          Central City 2       1501 Michigan Ave   \n",
      "9999        Giggle Juice Liquor Station, LLC           600 W Main St   \n",
      "\n",
      "              City  Zip Code                        Store Location  \\\n",
      "0         Cherokee   51012.0           POINT (-95.551866 42.75508)   \n",
      "1      Cedar Falls   50613.0          POINT (-92.435236 42.512789)   \n",
      "2     Marshalltown   50158.0          POINT (-92.912817 42.039205)   \n",
      "3         Waterloo   50703.0          POINT (-92.335358 42.497854)   \n",
      "4       Guttenberg   52052.0          POINT (-91.095813 42.782907)   \n",
      "...            ...       ...                                   ...   \n",
      "9995  Cedar Rapids   52403.0           POINT (-91.60978 41.976835)   \n",
      "9996     Maquoketa   52060.0  POINT (-90.659692 42.06922000000001)   \n",
      "9997      Johnston   50131.0          POINT (-93.697731 41.665172)   \n",
      "9998    Des Moines   50314.0           POINT (-93.613739 41.60572)   \n",
      "9999       Anamosa   52205.0  POINT (-91.29083400000002 42.108203)   \n",
      "\n",
      "      County Number      County  ...  State Bottle Cost State Bottle Retail  \\\n",
      "0              18.0    CHEROKEE  ...              13.10               19.65   \n",
      "1               7.0  BLACK HAWK  ...               6.92               10.38   \n",
      "2              64.0    MARSHALL  ...               4.42                6.63   \n",
      "3               7.0  BLACK HAWK  ...              10.49               15.74   \n",
      "4              22.0     CLAYTON  ...               7.49               11.24   \n",
      "...             ...         ...  ...                ...                 ...   \n",
      "9995           57.0        LINN  ...              11.00               16.50   \n",
      "9996           49.0     JACKSON  ...               7.87               11.81   \n",
      "9997           77.0        POLK  ...               9.06               13.59   \n",
      "9998           77.0        POLK  ...               9.01               13.52   \n",
      "9999           53.0       JONES  ...              11.75               17.63   \n",
      "\n",
      "      Bottles Sold Sale (Dollars)  Volume Sold (Liters) Volume Sold (Gallons)  \\\n",
      "0                3          58.95                  2.25                  0.59   \n",
      "1               12         124.56                 21.00                  5.55   \n",
      "2               12          79.56                 12.00                  3.17   \n",
      "3               36         566.64                 36.00                  9.51   \n",
      "4                2          22.48                  1.50                  0.40   \n",
      "...            ...            ...                   ...                   ...   \n",
      "9995             6          99.00                 10.50                  2.77   \n",
      "9996             4          47.24                  4.00                  1.06   \n",
      "9997             2          27.18                  1.00                  0.26   \n",
      "9998            12         162.24                  9.00                  2.38   \n",
      "9999            12         211.56                 12.00                  3.17   \n",
      "\n",
      "      Year  population  county  year  \n",
      "0     2018         NaN     NaN   NaN  \n",
      "1     2018      131723     NaN   NaN  \n",
      "2     2018         NaN     NaN   NaN  \n",
      "3     2018      131723     NaN   NaN  \n",
      "4     2018         NaN     NaN   NaN  \n",
      "...    ...         ...     ...   ...  \n",
      "9995  2018         NaN     NaN   NaN  \n",
      "9996  2018       19427     NaN   NaN  \n",
      "9997  2018         NaN     NaN   NaN  \n",
      "9998  2018         NaN     NaN   NaN  \n",
      "9999  2018         NaN     NaN   NaN  \n",
      "\n",
      "[10000 rows x 28 columns]\n"
     ]
    },
    {
     "data": {
      "text/plain": [
       "Index(['Invoice/Item Number', 'Date', 'Store Number', 'Store Name', 'Address',\n",
       "       'City', 'Zip Code', 'Store Location', 'County Number', 'County',\n",
       "       'Category', 'Category Name', 'Vendor Number', 'Vendor Name',\n",
       "       'Item Number', 'Item Description', 'Pack', 'Bottle Volume (ml)',\n",
       "       'State Bottle Cost', 'State Bottle Retail', 'Bottles Sold',\n",
       "       'Sale (Dollars)', 'Volume Sold (Liters)', 'Volume Sold (Gallons)',\n",
       "       'Year', 'population', 'county', 'year'],\n",
       "      dtype='object')"
      ]
     },
     "execution_count": 93,
     "metadata": {},
     "output_type": "execute_result"
    }
   ],
   "source": [
    "combined = alc_df.merge(pop_df, how = \"left\", on = [\"County\", \"Year\"])\n",
    "#combined[combined[\"year\"].equals(combined[\"Year\"])]\n",
    "print(combined)\n",
    "combined.columns"
   ]
  },
  {
   "cell_type": "code",
   "execution_count": 97,
   "metadata": {},
   "outputs": [],
   "source": [
    "from pathlib import Path  \n",
    "filepath = Path('out.csv')  \n",
    "filepath.parent.mkdir(parents=True, exist_ok=True)  \n",
    "combined.to_csv(filepath)\n",
    "\n",
    "filepath = Path('alc_df.csv')  \n",
    "filepath.parent.mkdir(parents=True, exist_ok=True)  \n",
    "combined.to_csv(filepath)\n",
    "alc_df.to_csv(filepath)\n",
    "\n",
    "filepath = Path('pop_df.csv')  \n",
    "filepath.parent.mkdir(parents=True, exist_ok=True)  \n",
    "combined.to_csv(filepath)\n",
    "pop_df.to_csv(filepath)"
   ]
  },
  {
   "cell_type": "code",
   "execution_count": null,
   "metadata": {},
   "outputs": [],
   "source": [
    "filepath = Path('alc_df.csv')  \n",
    "filepath.parent.mkdir(parents=True, exist_ok=True)  \n",
    "combined.to_csv(filepath)\n",
    "alc_df.to_csv(filepath)"
   ]
  },
  {
   "cell_type": "code",
   "execution_count": null,
   "metadata": {},
   "outputs": [],
   "source": []
  }
 ],
 "metadata": {
  "colab": {
   "provenance": []
  },
  "kernelspec": {
   "display_name": "Python 3",
   "language": "python",
   "name": "python3"
  },
  "language_info": {
   "codemirror_mode": {
    "name": "ipython",
    "version": 3
   },
   "file_extension": ".py",
   "mimetype": "text/x-python",
   "name": "python",
   "nbconvert_exporter": "python",
   "pygments_lexer": "ipython3",
   "version": "3.8.8"
  }
 },
 "nbformat": 4,
 "nbformat_minor": 4
}
