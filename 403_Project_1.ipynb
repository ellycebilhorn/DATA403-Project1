{
  "nbformat": 4,
  "nbformat_minor": 0,
  "metadata": {
    "colab": {
      "provenance": []
    },
    "kernelspec": {
      "name": "python3",
      "display_name": "Python 3"
    },
    "language_info": {
      "name": "python"
    }
  },
  "cells": [
    {
      "cell_type": "code",
      "execution_count": null,
      "metadata": {
        "id": "YInyITf6o8eB"
      },
      "outputs": [],
      "source": [
        "import numpy as np\n",
        "import pandas as pd\n",
        "import requests\n",
        "import json"
      ]
    },
    {
      "cell_type": "code",
      "source": [
        "url = \"https://data.iowa.gov/resource/m3tr-qhgy.csv\"\n",
        "alc_df = pd.read_csv(url)\n"
      ],
      "metadata": {
        "id": "h2xVpx9rsbLm"
      },
      "execution_count": null,
      "outputs": []
    },
    {
      "cell_type": "code",
      "source": [
        "def return_name(string):\n",
        "  return \" \".join(string.split(\" \")[:-1])\n",
        "\n",
        "pop_df= pd.read_csv(\"https://data.iowa.gov/resource/qtnr-zsrc.csv\")\n",
        "pop_df[\"county\"] = pop_df[\"geographicname\"].apply(return_name).str.upper()\n"
      ],
      "metadata": {
        "id": "5kSa3M-_tR1w"
      },
      "execution_count": null,
      "outputs": []
    },
    {
      "cell_type": "code",
      "source": [
        "def return_year(string):\n",
        "  return string.split(\"-\")[0]\n",
        "\n",
        "pop_df[\"year\"] = pop_df[\"year\"].apply(return_year)\n"
      ],
      "metadata": {
        "id": "EfbB4tNCu-ZX"
      },
      "execution_count": null,
      "outputs": []
    },
    {
      "cell_type": "code",
      "source": [
        "alc_df[\"Year\"] = alc_df[\"date\"].apply(return_year)\n",
        "alc_df[\"county\"] = alc_df[\"county\"].str.upper()\n"
      ],
      "metadata": {
        "id": "FIfw7mLCv6x5"
      },
      "execution_count": null,
      "outputs": []
    },
    {
      "cell_type": "code",
      "source": [
        "\n",
        "alc_df[\"county\"].unique()"
      ],
      "metadata": {
        "colab": {
          "base_uri": "https://localhost:8080/"
        },
        "id": "fF2E_JW3uiKg",
        "outputId": "c61cb51c-a993-43e0-ffcb-c2ba33b570bf"
      },
      "execution_count": null,
      "outputs": [
        {
          "output_type": "execute_result",
          "data": {
            "text/plain": [
              "array(['JOHNSON', 'POLK', 'IOWA', 'CERRO GORDO', 'STORY', 'BOONE',\n",
              "       'SCOTT', 'DICKINSON', 'LINN', 'DUBUQUE', 'FLOYD', 'MAHASKA',\n",
              "       'MARSHALL', 'WORTH', 'BLACK HAWK', 'MADISON', 'WINNESHIEK',\n",
              "       'BENTON', 'DALLAS', 'SAC', 'CLAYTON', 'APPANOOSE', \"O'BRIEN\",\n",
              "       'CHICKASAW', 'WOODBURY', 'POTTAWATTAMIE', 'BREMER', 'LUCAS',\n",
              "       'BUCHANAN', 'POCAHONTAS', 'DES MOINES', 'POWESHIEK', 'WAPELLO',\n",
              "       'FAYETTE', 'MILLS', 'PLYMOUTH', 'WARREN', 'CARROLL', 'DECATUR',\n",
              "       'WASHINGTON', 'SHELBY', 'MARION', 'CEDAR', 'HARDIN', 'ALLAMAKEE',\n",
              "       'JACKSON', 'MUSCATINE', 'HENRY', 'KOSSUTH', 'DAVIS', 'JASPER',\n",
              "       'GREENE', 'VAN BUREN', 'TAMA', 'HARRISON', 'CHEROKEE', 'JONES',\n",
              "       'MONONA', 'BUTLER', 'ADAIR', 'CLAY', 'WEBSTER', nan, 'EMMET',\n",
              "       'WINNEBAGO', 'DELAWARE', 'CLINTON', 'MONTGOMERY', 'UNION', 'LEE',\n",
              "       'SIOUX', 'BUENA VISTA', 'PALO ALTO', 'MITCHELL', 'CLARKE',\n",
              "       'WRIGHT', 'CASS', 'PAGE', 'HAMILTON', 'GRUNDY', 'HUMBOLDT',\n",
              "       'JEFFERSON', 'IDA', 'HOWARD', 'CALHOUN', 'GUTHRIE', 'LOUISA',\n",
              "       'FRANKLIN', 'KEOKUK', 'CRAWFORD', 'AUDUBON', 'TAYLOR'],\n",
              "      dtype=object)"
            ]
          },
          "metadata": {},
          "execution_count": 138
        }
      ]
    },
    {
      "cell_type": "code",
      "source": [
        "pop_df[\"county\"].unique()"
      ],
      "metadata": {
        "colab": {
          "base_uri": "https://localhost:8080/"
        },
        "id": "l-ZcxAt1xvgQ",
        "outputId": "47775326-b13c-481b-fb7a-75d6698dd943"
      },
      "execution_count": null,
      "outputs": [
        {
          "output_type": "execute_result",
          "data": {
            "text/plain": [
              "array(['STORY', 'FAYETTE', 'HOWARD', 'APPANOOSE', 'CLAYTON', 'JOHNSON',\n",
              "       'MONONA', 'SIOUX', 'JEFFERSON', 'LINN', 'RINGGOLD', 'POCAHONTAS',\n",
              "       'POLK', 'HANCOCK', 'WEBSTER', 'TAMA', 'CEDAR', \"O'BRIEN\", 'EMMET',\n",
              "       'GUTHRIE', 'PALO ALTO', 'CHICKASAW', 'OSCEOLA', 'MONTGOMERY',\n",
              "       'BLACK HAWK', 'WASHINGTON', 'LYON', 'LUCAS', 'DICKINSON', 'MILLS',\n",
              "       'BENTON', 'DUBUQUE', 'JONES', 'PAGE', 'SCOTT', 'WAYNE',\n",
              "       'VAN BUREN', 'CRAWFORD', 'POTTAWATTAMIE', 'LEE', 'CHEROKEE',\n",
              "       'TAYLOR', 'GREENE', 'MAHASKA', 'HARRISON', 'HUMBOLDT',\n",
              "       'CERRO GORDO', 'CALHOUN', 'UNION', 'WINNEBAGO', 'MITCHELL',\n",
              "       'DAVIS', 'DALLAS', 'KOSSUTH', 'JACKSON', 'ALLAMAKEE', 'BUTLER',\n",
              "       'MUSCATINE', 'IOWA', 'ADAIR', 'DELAWARE', 'FLOYD', 'WARREN',\n",
              "       'WORTH', 'AUDUBON', 'MADISON', 'CLAY', 'BREMER', 'DECATUR',\n",
              "       'LOUISA', 'GRUNDY', 'WOODBURY', 'FRANKLIN', 'BUENA VISTA',\n",
              "       'CARROLL', 'KEOKUK', 'CLARKE', 'SHELBY', 'SAC', 'JASPER',\n",
              "       'POWESHIEK', 'HENRY', 'CLINTON', 'FREMONT', 'MARSHALL', 'WRIGHT',\n",
              "       'WAPELLO', 'PLYMOUTH', 'BOONE', 'MONROE', 'HAMILTON', 'MARION',\n",
              "       'ADAMS', 'WINNESHIEK', 'IDA', 'HARDIN', 'BUCHANAN', 'CASS',\n",
              "       'DES MOINES'], dtype=object)"
            ]
          },
          "metadata": {},
          "execution_count": 139
        }
      ]
    },
    {
      "cell_type": "code",
      "source": [
        "df = pd.read_html(\"https://www.iowa-demographics.com/counties_by_population\")[0]\n",
        "df[\"year\"] = \"2021\"\n",
        "df[\"county\"] = df[\"County\"].apply(return_name).str.upper()\n",
        "df[\"population\"] = df[\"Population\"]\n",
        "df = df[[\"county\", \"population\", \"year\"]]\n",
        "df"
      ],
      "metadata": {
        "colab": {
          "base_uri": "https://localhost:8080/",
          "height": 424
        },
        "id": "nnIN9ZHi23YD",
        "outputId": "482b4e4c-a3c8-40da-888b-3088fd8d438b"
      },
      "execution_count": null,
      "outputs": [
        {
          "output_type": "execute_result",
          "data": {
            "text/plain": [
              "                                               county  \\\n",
              "0                                                POLK   \n",
              "1                                                LINN   \n",
              "2                                               SCOTT   \n",
              "3                                             JOHNSON   \n",
              "4                                          BLACK HAWK   \n",
              "..                                                ...   \n",
              "95                                             TAYLOR   \n",
              "96                                            AUDUBON   \n",
              "97                                           RINGGOLD   \n",
              "98                                              ADAMS   \n",
              "99  UNITED STATES CENSUS BUREAU. B01001 SEX BY AGE...   \n",
              "\n",
              "                                           population  year  \n",
              "0                                              496844  2021  \n",
              "1                                              228939  2021  \n",
              "2                                              174170  2021  \n",
              "3                                              154748  2021  \n",
              "4                                              130368  2021  \n",
              "..                                                ...   ...  \n",
              "95                                               5868  2021  \n",
              "96                                               5635  2021  \n",
              "97                                               4639  2021  \n",
              "98                                               3641  2021  \n",
              "99  United States Census Bureau. B01001 SEX BY AGE...  2021  \n",
              "\n",
              "[100 rows x 3 columns]"
            ],
            "text/html": [
              "\n",
              "  <div id=\"df-f520b237-d46b-4e88-8c38-a91a2cbae721\">\n",
              "    <div class=\"colab-df-container\">\n",
              "      <div>\n",
              "<style scoped>\n",
              "    .dataframe tbody tr th:only-of-type {\n",
              "        vertical-align: middle;\n",
              "    }\n",
              "\n",
              "    .dataframe tbody tr th {\n",
              "        vertical-align: top;\n",
              "    }\n",
              "\n",
              "    .dataframe thead th {\n",
              "        text-align: right;\n",
              "    }\n",
              "</style>\n",
              "<table border=\"1\" class=\"dataframe\">\n",
              "  <thead>\n",
              "    <tr style=\"text-align: right;\">\n",
              "      <th></th>\n",
              "      <th>county</th>\n",
              "      <th>population</th>\n",
              "      <th>year</th>\n",
              "    </tr>\n",
              "  </thead>\n",
              "  <tbody>\n",
              "    <tr>\n",
              "      <th>0</th>\n",
              "      <td>POLK</td>\n",
              "      <td>496844</td>\n",
              "      <td>2021</td>\n",
              "    </tr>\n",
              "    <tr>\n",
              "      <th>1</th>\n",
              "      <td>LINN</td>\n",
              "      <td>228939</td>\n",
              "      <td>2021</td>\n",
              "    </tr>\n",
              "    <tr>\n",
              "      <th>2</th>\n",
              "      <td>SCOTT</td>\n",
              "      <td>174170</td>\n",
              "      <td>2021</td>\n",
              "    </tr>\n",
              "    <tr>\n",
              "      <th>3</th>\n",
              "      <td>JOHNSON</td>\n",
              "      <td>154748</td>\n",
              "      <td>2021</td>\n",
              "    </tr>\n",
              "    <tr>\n",
              "      <th>4</th>\n",
              "      <td>BLACK HAWK</td>\n",
              "      <td>130368</td>\n",
              "      <td>2021</td>\n",
              "    </tr>\n",
              "    <tr>\n",
              "      <th>...</th>\n",
              "      <td>...</td>\n",
              "      <td>...</td>\n",
              "      <td>...</td>\n",
              "    </tr>\n",
              "    <tr>\n",
              "      <th>95</th>\n",
              "      <td>TAYLOR</td>\n",
              "      <td>5868</td>\n",
              "      <td>2021</td>\n",
              "    </tr>\n",
              "    <tr>\n",
              "      <th>96</th>\n",
              "      <td>AUDUBON</td>\n",
              "      <td>5635</td>\n",
              "      <td>2021</td>\n",
              "    </tr>\n",
              "    <tr>\n",
              "      <th>97</th>\n",
              "      <td>RINGGOLD</td>\n",
              "      <td>4639</td>\n",
              "      <td>2021</td>\n",
              "    </tr>\n",
              "    <tr>\n",
              "      <th>98</th>\n",
              "      <td>ADAMS</td>\n",
              "      <td>3641</td>\n",
              "      <td>2021</td>\n",
              "    </tr>\n",
              "    <tr>\n",
              "      <th>99</th>\n",
              "      <td>UNITED STATES CENSUS BUREAU. B01001 SEX BY AGE...</td>\n",
              "      <td>United States Census Bureau. B01001 SEX BY AGE...</td>\n",
              "      <td>2021</td>\n",
              "    </tr>\n",
              "  </tbody>\n",
              "</table>\n",
              "<p>100 rows × 3 columns</p>\n",
              "</div>\n",
              "      <button class=\"colab-df-convert\" onclick=\"convertToInteractive('df-f520b237-d46b-4e88-8c38-a91a2cbae721')\"\n",
              "              title=\"Convert this dataframe to an interactive table.\"\n",
              "              style=\"display:none;\">\n",
              "        \n",
              "  <svg xmlns=\"http://www.w3.org/2000/svg\" height=\"24px\"viewBox=\"0 0 24 24\"\n",
              "       width=\"24px\">\n",
              "    <path d=\"M0 0h24v24H0V0z\" fill=\"none\"/>\n",
              "    <path d=\"M18.56 5.44l.94 2.06.94-2.06 2.06-.94-2.06-.94-.94-2.06-.94 2.06-2.06.94zm-11 1L8.5 8.5l.94-2.06 2.06-.94-2.06-.94L8.5 2.5l-.94 2.06-2.06.94zm10 10l.94 2.06.94-2.06 2.06-.94-2.06-.94-.94-2.06-.94 2.06-2.06.94z\"/><path d=\"M17.41 7.96l-1.37-1.37c-.4-.4-.92-.59-1.43-.59-.52 0-1.04.2-1.43.59L10.3 9.45l-7.72 7.72c-.78.78-.78 2.05 0 2.83L4 21.41c.39.39.9.59 1.41.59.51 0 1.02-.2 1.41-.59l7.78-7.78 2.81-2.81c.8-.78.8-2.07 0-2.86zM5.41 20L4 18.59l7.72-7.72 1.47 1.35L5.41 20z\"/>\n",
              "  </svg>\n",
              "      </button>\n",
              "      \n",
              "  <style>\n",
              "    .colab-df-container {\n",
              "      display:flex;\n",
              "      flex-wrap:wrap;\n",
              "      gap: 12px;\n",
              "    }\n",
              "\n",
              "    .colab-df-convert {\n",
              "      background-color: #E8F0FE;\n",
              "      border: none;\n",
              "      border-radius: 50%;\n",
              "      cursor: pointer;\n",
              "      display: none;\n",
              "      fill: #1967D2;\n",
              "      height: 32px;\n",
              "      padding: 0 0 0 0;\n",
              "      width: 32px;\n",
              "    }\n",
              "\n",
              "    .colab-df-convert:hover {\n",
              "      background-color: #E2EBFA;\n",
              "      box-shadow: 0px 1px 2px rgba(60, 64, 67, 0.3), 0px 1px 3px 1px rgba(60, 64, 67, 0.15);\n",
              "      fill: #174EA6;\n",
              "    }\n",
              "\n",
              "    [theme=dark] .colab-df-convert {\n",
              "      background-color: #3B4455;\n",
              "      fill: #D2E3FC;\n",
              "    }\n",
              "\n",
              "    [theme=dark] .colab-df-convert:hover {\n",
              "      background-color: #434B5C;\n",
              "      box-shadow: 0px 1px 3px 1px rgba(0, 0, 0, 0.15);\n",
              "      filter: drop-shadow(0px 1px 2px rgba(0, 0, 0, 0.3));\n",
              "      fill: #FFFFFF;\n",
              "    }\n",
              "  </style>\n",
              "\n",
              "      <script>\n",
              "        const buttonEl =\n",
              "          document.querySelector('#df-f520b237-d46b-4e88-8c38-a91a2cbae721 button.colab-df-convert');\n",
              "        buttonEl.style.display =\n",
              "          google.colab.kernel.accessAllowed ? 'block' : 'none';\n",
              "\n",
              "        async function convertToInteractive(key) {\n",
              "          const element = document.querySelector('#df-f520b237-d46b-4e88-8c38-a91a2cbae721');\n",
              "          const dataTable =\n",
              "            await google.colab.kernel.invokeFunction('convertToInteractive',\n",
              "                                                     [key], {});\n",
              "          if (!dataTable) return;\n",
              "\n",
              "          const docLinkHtml = 'Like what you see? Visit the ' +\n",
              "            '<a target=\"_blank\" href=https://colab.research.google.com/notebooks/data_table.ipynb>data table notebook</a>'\n",
              "            + ' to learn more about interactive tables.';\n",
              "          element.innerHTML = '';\n",
              "          dataTable['output_type'] = 'display_data';\n",
              "          await google.colab.output.renderOutput(dataTable, element);\n",
              "          const docLink = document.createElement('div');\n",
              "          docLink.innerHTML = docLinkHtml;\n",
              "          element.appendChild(docLink);\n",
              "        }\n",
              "      </script>\n",
              "    </div>\n",
              "  </div>\n",
              "  "
            ]
          },
          "metadata": {},
          "execution_count": 163
        }
      ]
    },
    {
      "cell_type": "code",
      "source": [
        "pop_df = pop_df[[\"county\", \"population\", \"year\"]]\n",
        "pop_df = pd.concat([pop_df, df])"
      ],
      "metadata": {
        "id": "xGQj1RBH4Z02"
      },
      "execution_count": null,
      "outputs": []
    },
    {
      "cell_type": "code",
      "source": [
        "combined = alc_df.merge(pop_df, how = \"left\")\n",
        "combined[combined[\"year\"].equals(combined[\"Year\"])]"
      ],
      "metadata": {
        "colab": {
          "base_uri": "https://localhost:8080/",
          "height": 525
        },
        "id": "hbqmk3iby4pd",
        "outputId": "595f3b0a-cb6a-480b-8ec8-082cfb2b420a"
      },
      "execution_count": null,
      "outputs": [
        {
          "output_type": "error",
          "ename": "KeyError",
          "evalue": "ignored",
          "traceback": [
            "\u001b[0;31m---------------------------------------------------------------------------\u001b[0m",
            "\u001b[0;31mKeyError\u001b[0m                                  Traceback (most recent call last)",
            "\u001b[0;32m/usr/local/lib/python3.7/dist-packages/pandas/core/indexes/base.py\u001b[0m in \u001b[0;36mget_loc\u001b[0;34m(self, key, method, tolerance)\u001b[0m\n\u001b[1;32m   3360\u001b[0m             \u001b[0;32mtry\u001b[0m\u001b[0;34m:\u001b[0m\u001b[0;34m\u001b[0m\u001b[0;34m\u001b[0m\u001b[0m\n\u001b[0;32m-> 3361\u001b[0;31m                 \u001b[0;32mreturn\u001b[0m \u001b[0mself\u001b[0m\u001b[0;34m.\u001b[0m\u001b[0m_engine\u001b[0m\u001b[0;34m.\u001b[0m\u001b[0mget_loc\u001b[0m\u001b[0;34m(\u001b[0m\u001b[0mcasted_key\u001b[0m\u001b[0;34m)\u001b[0m\u001b[0;34m\u001b[0m\u001b[0;34m\u001b[0m\u001b[0m\n\u001b[0m\u001b[1;32m   3362\u001b[0m             \u001b[0;32mexcept\u001b[0m \u001b[0mKeyError\u001b[0m \u001b[0;32mas\u001b[0m \u001b[0merr\u001b[0m\u001b[0;34m:\u001b[0m\u001b[0;34m\u001b[0m\u001b[0;34m\u001b[0m\u001b[0m\n",
            "\u001b[0;32m/usr/local/lib/python3.7/dist-packages/pandas/_libs/index.pyx\u001b[0m in \u001b[0;36mpandas._libs.index.IndexEngine.get_loc\u001b[0;34m()\u001b[0m\n",
            "\u001b[0;32m/usr/local/lib/python3.7/dist-packages/pandas/_libs/index.pyx\u001b[0m in \u001b[0;36mpandas._libs.index.IndexEngine.get_loc\u001b[0;34m()\u001b[0m\n",
            "\u001b[0;32mpandas/_libs/hashtable_class_helper.pxi\u001b[0m in \u001b[0;36mpandas._libs.hashtable.PyObjectHashTable.get_item\u001b[0;34m()\u001b[0m\n",
            "\u001b[0;32mpandas/_libs/hashtable_class_helper.pxi\u001b[0m in \u001b[0;36mpandas._libs.hashtable.PyObjectHashTable.get_item\u001b[0;34m()\u001b[0m\n",
            "\u001b[0;31mKeyError\u001b[0m: False",
            "\nThe above exception was the direct cause of the following exception:\n",
            "\u001b[0;31mKeyError\u001b[0m                                  Traceback (most recent call last)",
            "\u001b[0;32m<ipython-input-140-837f3f319239>\u001b[0m in \u001b[0;36m<module>\u001b[0;34m\u001b[0m\n\u001b[1;32m      1\u001b[0m \u001b[0mcombined\u001b[0m \u001b[0;34m=\u001b[0m \u001b[0malc_df\u001b[0m\u001b[0;34m.\u001b[0m\u001b[0mmerge\u001b[0m\u001b[0;34m(\u001b[0m\u001b[0mpop_df\u001b[0m\u001b[0;34m,\u001b[0m \u001b[0mhow\u001b[0m \u001b[0;34m=\u001b[0m \u001b[0;34m\"left\"\u001b[0m\u001b[0;34m)\u001b[0m\u001b[0;34m\u001b[0m\u001b[0;34m\u001b[0m\u001b[0m\n\u001b[0;32m----> 2\u001b[0;31m \u001b[0mcombined\u001b[0m\u001b[0;34m[\u001b[0m\u001b[0mcombined\u001b[0m\u001b[0;34m[\u001b[0m\u001b[0;34m\"year\"\u001b[0m\u001b[0;34m]\u001b[0m\u001b[0;34m.\u001b[0m\u001b[0mequals\u001b[0m\u001b[0;34m(\u001b[0m\u001b[0mcombined\u001b[0m\u001b[0;34m[\u001b[0m\u001b[0;34m\"Year\"\u001b[0m\u001b[0;34m]\u001b[0m\u001b[0;34m)\u001b[0m\u001b[0;34m]\u001b[0m\u001b[0;34m\u001b[0m\u001b[0;34m\u001b[0m\u001b[0m\n\u001b[0m",
            "\u001b[0;32m/usr/local/lib/python3.7/dist-packages/pandas/core/frame.py\u001b[0m in \u001b[0;36m__getitem__\u001b[0;34m(self, key)\u001b[0m\n\u001b[1;32m   3456\u001b[0m             \u001b[0;32mif\u001b[0m \u001b[0mself\u001b[0m\u001b[0;34m.\u001b[0m\u001b[0mcolumns\u001b[0m\u001b[0;34m.\u001b[0m\u001b[0mnlevels\u001b[0m \u001b[0;34m>\u001b[0m \u001b[0;36m1\u001b[0m\u001b[0;34m:\u001b[0m\u001b[0;34m\u001b[0m\u001b[0;34m\u001b[0m\u001b[0m\n\u001b[1;32m   3457\u001b[0m                 \u001b[0;32mreturn\u001b[0m \u001b[0mself\u001b[0m\u001b[0;34m.\u001b[0m\u001b[0m_getitem_multilevel\u001b[0m\u001b[0;34m(\u001b[0m\u001b[0mkey\u001b[0m\u001b[0;34m)\u001b[0m\u001b[0;34m\u001b[0m\u001b[0;34m\u001b[0m\u001b[0m\n\u001b[0;32m-> 3458\u001b[0;31m             \u001b[0mindexer\u001b[0m \u001b[0;34m=\u001b[0m \u001b[0mself\u001b[0m\u001b[0;34m.\u001b[0m\u001b[0mcolumns\u001b[0m\u001b[0;34m.\u001b[0m\u001b[0mget_loc\u001b[0m\u001b[0;34m(\u001b[0m\u001b[0mkey\u001b[0m\u001b[0;34m)\u001b[0m\u001b[0;34m\u001b[0m\u001b[0;34m\u001b[0m\u001b[0m\n\u001b[0m\u001b[1;32m   3459\u001b[0m             \u001b[0;32mif\u001b[0m \u001b[0mis_integer\u001b[0m\u001b[0;34m(\u001b[0m\u001b[0mindexer\u001b[0m\u001b[0;34m)\u001b[0m\u001b[0;34m:\u001b[0m\u001b[0;34m\u001b[0m\u001b[0;34m\u001b[0m\u001b[0m\n\u001b[1;32m   3460\u001b[0m                 \u001b[0mindexer\u001b[0m \u001b[0;34m=\u001b[0m \u001b[0;34m[\u001b[0m\u001b[0mindexer\u001b[0m\u001b[0;34m]\u001b[0m\u001b[0;34m\u001b[0m\u001b[0;34m\u001b[0m\u001b[0m\n",
            "\u001b[0;32m/usr/local/lib/python3.7/dist-packages/pandas/core/indexes/base.py\u001b[0m in \u001b[0;36mget_loc\u001b[0;34m(self, key, method, tolerance)\u001b[0m\n\u001b[1;32m   3361\u001b[0m                 \u001b[0;32mreturn\u001b[0m \u001b[0mself\u001b[0m\u001b[0;34m.\u001b[0m\u001b[0m_engine\u001b[0m\u001b[0;34m.\u001b[0m\u001b[0mget_loc\u001b[0m\u001b[0;34m(\u001b[0m\u001b[0mcasted_key\u001b[0m\u001b[0;34m)\u001b[0m\u001b[0;34m\u001b[0m\u001b[0;34m\u001b[0m\u001b[0m\n\u001b[1;32m   3362\u001b[0m             \u001b[0;32mexcept\u001b[0m \u001b[0mKeyError\u001b[0m \u001b[0;32mas\u001b[0m \u001b[0merr\u001b[0m\u001b[0;34m:\u001b[0m\u001b[0;34m\u001b[0m\u001b[0;34m\u001b[0m\u001b[0m\n\u001b[0;32m-> 3363\u001b[0;31m                 \u001b[0;32mraise\u001b[0m \u001b[0mKeyError\u001b[0m\u001b[0;34m(\u001b[0m\u001b[0mkey\u001b[0m\u001b[0;34m)\u001b[0m \u001b[0;32mfrom\u001b[0m \u001b[0merr\u001b[0m\u001b[0;34m\u001b[0m\u001b[0;34m\u001b[0m\u001b[0m\n\u001b[0m\u001b[1;32m   3364\u001b[0m \u001b[0;34m\u001b[0m\u001b[0m\n\u001b[1;32m   3365\u001b[0m         \u001b[0;32mif\u001b[0m \u001b[0mis_scalar\u001b[0m\u001b[0;34m(\u001b[0m\u001b[0mkey\u001b[0m\u001b[0;34m)\u001b[0m \u001b[0;32mand\u001b[0m \u001b[0misna\u001b[0m\u001b[0;34m(\u001b[0m\u001b[0mkey\u001b[0m\u001b[0;34m)\u001b[0m \u001b[0;32mand\u001b[0m \u001b[0;32mnot\u001b[0m \u001b[0mself\u001b[0m\u001b[0;34m.\u001b[0m\u001b[0mhasnans\u001b[0m\u001b[0;34m:\u001b[0m\u001b[0;34m\u001b[0m\u001b[0;34m\u001b[0m\u001b[0m\n",
            "\u001b[0;31mKeyError\u001b[0m: False"
          ]
        }
      ]
    }
  ]
}