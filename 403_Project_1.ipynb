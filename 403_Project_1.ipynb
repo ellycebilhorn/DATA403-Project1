{
 "cells": [
  {
   "cell_type": "code",
   "execution_count": 6,
   "metadata": {
    "id": "YInyITf6o8eB"
   },
   "outputs": [],
   "source": [
    "import numpy as np\n",
    "import pandas as pd\n",
    "import requests\n",
    "import json"
   ]
  },
  {
   "cell_type": "code",
   "execution_count": 14,
   "metadata": {
    "id": "h2xVpx9rsbLm"
   },
   "outputs": [
    {
     "name": "stdout",
     "output_type": "stream",
     "text": [
      "test\n",
      "  Invoice/Item Number        Date  Store Number  \\\n",
      "0     INV-09962700007  01/23/2018          4310   \n",
      "\n",
      "                       Store Name            Address      City  Zip Code  \\\n",
      "0  Fareway Stores #502 / Cherokee  205 West Bluff St  Cherokee   51012.0   \n",
      "\n",
      "                Store Location  County Number    County  ...  Item Number  \\\n",
      "0  POINT (-95.551866 42.75508)           18.0  CHEROKEE  ...        14192   \n",
      "\n",
      "            Item Description  Pack Bottle Volume (ml)  State Bottle Cost  \\\n",
      "0  Pendleton Canadian Whisky    12                750               13.1   \n",
      "\n",
      "  State Bottle Retail  Bottles Sold  Sale (Dollars)  Volume Sold (Liters)  \\\n",
      "0               19.65             3           58.95                  2.25   \n",
      "\n",
      "   Volume Sold (Gallons)  \n",
      "0                   0.59  \n",
      "\n",
      "[1 rows x 24 columns]\n"
     ]
    }
   ],
   "source": [
    "url = \"../../../datasets/Iowa_Liquor_Sales.csv\"\n",
    "alc_df = pd.read_csv(url, nrows=10000)\n",
    "print(\"test\")\n",
    "print(alc_df.head(1))"
   ]
  },
  {
   "cell_type": "code",
   "execution_count": 21,
   "metadata": {
    "id": "5kSa3M-_tR1w"
   },
   "outputs": [
    {
     "name": "stdout",
     "output_type": "stream",
     "text": [
      "    fips geographicname                     year  population  \\\n",
      "0  19169   Story County  2011-07-01T00:00:00.000       91136   \n",
      "\n",
      "                    primary_point county  \n",
      "0  POINT (-93.4650448 42.0362415)  STORY  \n"
     ]
    }
   ],
   "source": [
    "def return_name(string):\n",
    "  return \" \".join(string.split(\" \")[:-1])\n",
    "\n",
    "pop_df= pd.read_csv(\"https://data.iowa.gov/resource/qtnr-zsrc.csv\")\n",
    "pop_df[\"county\"] = pop_df[\"geographicname\"].apply(return_name).str.upper()\n",
    "print(pop_df.head(1))\n"
   ]
  },
  {
   "cell_type": "code",
   "execution_count": 19,
   "metadata": {
    "id": "EfbB4tNCu-ZX"
   },
   "outputs": [],
   "source": [
    "def return_year(string):\n",
    "  return string.split(\"-\")[0]\n",
    "\n",
    "pop_df[\"year\"] = pop_df[\"year\"].apply(return_year)\n"
   ]
  },
  {
   "cell_type": "code",
   "execution_count": 22,
   "metadata": {
    "id": "FIfw7mLCv6x5"
   },
   "outputs": [],
   "source": [
    "alc_df[\"Year\"] = alc_df[\"Date\"].apply(return_year)\n",
    "alc_df[\"County\"] = alc_df[\"County\"].str.upper()\n"
   ]
  },
  {
   "cell_type": "code",
   "execution_count": 23,
   "metadata": {
    "colab": {
     "base_uri": "https://localhost:8080/"
    },
    "id": "fF2E_JW3uiKg",
    "outputId": "c61cb51c-a993-43e0-ffcb-c2ba33b570bf"
   },
   "outputs": [
    {
     "data": {
      "text/plain": [
       "array(['CHEROKEE', 'BLACK HAWK', 'MARSHALL', 'CLAYTON', 'STORY',\n",
       "       'JOHNSON', 'LINN', 'POLK', 'PLYMOUTH', 'LUCAS', 'DUBUQUE',\n",
       "       'CLINTON', 'SCOTT', 'PALO ALTO', 'DALLAS', 'WEBSTER', 'BOONE',\n",
       "       'TAMA', 'BREMER', 'CERRO GORD', 'POTTAWATTA', 'MAHASKA',\n",
       "       'WINNESHIEK', 'KOSSUTH', 'MUSCATINE', 'LYON', 'WOODBURY', 'MONONA',\n",
       "       'DICKINSON', 'HARRISON', 'MILLS', 'CRAWFORD', 'OBRIEN',\n",
       "       'DES MOINES', 'WASHINGTON', 'APPANOOSE', 'BUTLER', 'WARREN',\n",
       "       'CLAY', nan, 'GRUNDY', 'CARROLL', 'SIOUX', 'BENTON', 'OSCEOLA',\n",
       "       'ALLAMAKEE', 'FRANKLIN', 'EMMET', 'WAPELLO', 'MARION',\n",
       "       'POCAHONTAS', 'HUMBOLDT', 'IOWA', 'MADISON', 'LEE', 'DAVIS',\n",
       "       'BUCHANAN', 'BUENA VIST', 'WRIGHT', 'JACKSON', 'IDA', 'JONES',\n",
       "       'FLOYD', 'POWESHIEK', 'CLARKE', 'WAYNE', 'UNION', 'SAC', 'CALHOUN',\n",
       "       'CASS', 'WORTH', 'JASPER', 'PAGE', 'HANCOCK', 'GUTHRIE',\n",
       "       'MONTGOMERY', 'DELAWARE', 'LOUISA', 'HARDIN', 'JEFFERSON',\n",
       "       'FAYETTE', 'MITCHELL', 'TAYLOR', 'CHICKASAW', 'DECATUR', 'MONROE',\n",
       "       'HENRY', 'CEDAR', 'HAMILTON', 'SHELBY', 'RINGGOLD', 'VAN BUREN',\n",
       "       'FREMONT', 'HOWARD', 'WINNEBAGO', 'GREENE', 'KEOKUK', 'ADAIR',\n",
       "       'ADAMS', 'AUDUBON'], dtype=object)"
      ]
     },
     "execution_count": 23,
     "metadata": {},
     "output_type": "execute_result"
    }
   ],
   "source": [
    "\n",
    "alc_df[\"County\"].unique()"
   ]
  },
  {
   "cell_type": "code",
   "execution_count": 24,
   "metadata": {
    "colab": {
     "base_uri": "https://localhost:8080/"
    },
    "id": "l-ZcxAt1xvgQ",
    "outputId": "47775326-b13c-481b-fb7a-75d6698dd943"
   },
   "outputs": [
    {
     "data": {
      "text/plain": [
       "array(['STORY', 'FAYETTE', 'HOWARD', 'APPANOOSE', 'CLAYTON', 'JOHNSON',\n",
       "       'MONONA', 'SIOUX', 'JEFFERSON', 'LINN', 'RINGGOLD', 'POCAHONTAS',\n",
       "       'POLK', 'HANCOCK', 'WEBSTER', 'TAMA', 'CEDAR', \"O'BRIEN\", 'EMMET',\n",
       "       'GUTHRIE', 'PALO ALTO', 'CHICKASAW', 'OSCEOLA', 'MONTGOMERY',\n",
       "       'BLACK HAWK', 'WASHINGTON', 'LYON', 'LUCAS', 'DICKINSON', 'MILLS',\n",
       "       'BENTON', 'DUBUQUE', 'JONES', 'PAGE', 'SCOTT', 'WAYNE',\n",
       "       'VAN BUREN', 'CRAWFORD', 'POTTAWATTAMIE', 'LEE', 'CHEROKEE',\n",
       "       'TAYLOR', 'GREENE', 'MAHASKA', 'HARRISON', 'HUMBOLDT',\n",
       "       'CERRO GORDO', 'CALHOUN', 'UNION', 'WINNEBAGO', 'MITCHELL',\n",
       "       'DAVIS', 'DALLAS', 'KOSSUTH', 'JACKSON', 'ALLAMAKEE', 'BUTLER',\n",
       "       'MUSCATINE', 'IOWA', 'ADAIR', 'DELAWARE', 'FLOYD', 'WARREN',\n",
       "       'WORTH', 'AUDUBON', 'MADISON', 'CLAY', 'BREMER', 'DECATUR',\n",
       "       'LOUISA', 'GRUNDY', 'WOODBURY', 'FRANKLIN', 'BUENA VISTA',\n",
       "       'CARROLL', 'KEOKUK', 'CLARKE', 'SHELBY', 'SAC', 'JASPER',\n",
       "       'POWESHIEK', 'HENRY', 'CLINTON', 'FREMONT', 'MARSHALL', 'WRIGHT',\n",
       "       'WAPELLO', 'PLYMOUTH', 'BOONE', 'MONROE', 'HAMILTON', 'MARION',\n",
       "       'ADAMS', 'WINNESHIEK', 'IDA', 'HARDIN', 'BUCHANAN', 'CASS',\n",
       "       'DES MOINES'], dtype=object)"
      ]
     },
     "execution_count": 24,
     "metadata": {},
     "output_type": "execute_result"
    }
   ],
   "source": [
    "pop_df[\"county\"].unique()"
   ]
  },
  {
   "cell_type": "code",
   "execution_count": 25,
   "metadata": {
    "colab": {
     "base_uri": "https://localhost:8080/",
     "height": 424
    },
    "id": "nnIN9ZHi23YD",
    "outputId": "482b4e4c-a3c8-40da-888b-3088fd8d438b"
   },
   "outputs": [
    {
     "data": {
      "text/html": [
       "<div>\n",
       "<style scoped>\n",
       "    .dataframe tbody tr th:only-of-type {\n",
       "        vertical-align: middle;\n",
       "    }\n",
       "\n",
       "    .dataframe tbody tr th {\n",
       "        vertical-align: top;\n",
       "    }\n",
       "\n",
       "    .dataframe thead th {\n",
       "        text-align: right;\n",
       "    }\n",
       "</style>\n",
       "<table border=\"1\" class=\"dataframe\">\n",
       "  <thead>\n",
       "    <tr style=\"text-align: right;\">\n",
       "      <th></th>\n",
       "      <th>county</th>\n",
       "      <th>population</th>\n",
       "      <th>year</th>\n",
       "    </tr>\n",
       "  </thead>\n",
       "  <tbody>\n",
       "    <tr>\n",
       "      <th>0</th>\n",
       "      <td>POLK</td>\n",
       "      <td>496844</td>\n",
       "      <td>2021</td>\n",
       "    </tr>\n",
       "    <tr>\n",
       "      <th>1</th>\n",
       "      <td>LINN</td>\n",
       "      <td>228939</td>\n",
       "      <td>2021</td>\n",
       "    </tr>\n",
       "    <tr>\n",
       "      <th>2</th>\n",
       "      <td>SCOTT</td>\n",
       "      <td>174170</td>\n",
       "      <td>2021</td>\n",
       "    </tr>\n",
       "    <tr>\n",
       "      <th>3</th>\n",
       "      <td>JOHNSON</td>\n",
       "      <td>154748</td>\n",
       "      <td>2021</td>\n",
       "    </tr>\n",
       "    <tr>\n",
       "      <th>4</th>\n",
       "      <td>BLACK HAWK</td>\n",
       "      <td>130368</td>\n",
       "      <td>2021</td>\n",
       "    </tr>\n",
       "    <tr>\n",
       "      <th>...</th>\n",
       "      <td>...</td>\n",
       "      <td>...</td>\n",
       "      <td>...</td>\n",
       "    </tr>\n",
       "    <tr>\n",
       "      <th>95</th>\n",
       "      <td>TAYLOR</td>\n",
       "      <td>5868</td>\n",
       "      <td>2021</td>\n",
       "    </tr>\n",
       "    <tr>\n",
       "      <th>96</th>\n",
       "      <td>AUDUBON</td>\n",
       "      <td>5635</td>\n",
       "      <td>2021</td>\n",
       "    </tr>\n",
       "    <tr>\n",
       "      <th>97</th>\n",
       "      <td>RINGGOLD</td>\n",
       "      <td>4639</td>\n",
       "      <td>2021</td>\n",
       "    </tr>\n",
       "    <tr>\n",
       "      <th>98</th>\n",
       "      <td>ADAMS</td>\n",
       "      <td>3641</td>\n",
       "      <td>2021</td>\n",
       "    </tr>\n",
       "    <tr>\n",
       "      <th>99</th>\n",
       "      <td>UNITED STATES CENSUS BUREAU. B01001 SEX BY AGE...</td>\n",
       "      <td>United States Census Bureau. B01001 SEX BY AGE...</td>\n",
       "      <td>2021</td>\n",
       "    </tr>\n",
       "  </tbody>\n",
       "</table>\n",
       "<p>100 rows × 3 columns</p>\n",
       "</div>"
      ],
      "text/plain": [
       "                                               county  \\\n",
       "0                                                POLK   \n",
       "1                                                LINN   \n",
       "2                                               SCOTT   \n",
       "3                                             JOHNSON   \n",
       "4                                          BLACK HAWK   \n",
       "..                                                ...   \n",
       "95                                             TAYLOR   \n",
       "96                                            AUDUBON   \n",
       "97                                           RINGGOLD   \n",
       "98                                              ADAMS   \n",
       "99  UNITED STATES CENSUS BUREAU. B01001 SEX BY AGE...   \n",
       "\n",
       "                                           population  year  \n",
       "0                                              496844  2021  \n",
       "1                                              228939  2021  \n",
       "2                                              174170  2021  \n",
       "3                                              154748  2021  \n",
       "4                                              130368  2021  \n",
       "..                                                ...   ...  \n",
       "95                                               5868  2021  \n",
       "96                                               5635  2021  \n",
       "97                                               4639  2021  \n",
       "98                                               3641  2021  \n",
       "99  United States Census Bureau. B01001 SEX BY AGE...  2021  \n",
       "\n",
       "[100 rows x 3 columns]"
      ]
     },
     "execution_count": 25,
     "metadata": {},
     "output_type": "execute_result"
    }
   ],
   "source": [
    "df = pd.read_html(\"https://www.iowa-demographics.com/counties_by_population\")[0]\n",
    "df[\"year\"] = \"2021\"\n",
    "df[\"county\"] = df[\"County\"].apply(return_name).str.upper()\n",
    "df[\"population\"] = df[\"Population\"]\n",
    "df = df[[\"county\", \"population\", \"year\"]]\n",
    "df"
   ]
  },
  {
   "cell_type": "code",
   "execution_count": 26,
   "metadata": {
    "id": "xGQj1RBH4Z02"
   },
   "outputs": [],
   "source": [
    "pop_df = pop_df[[\"county\", \"population\", \"year\"]]\n",
    "pop_df = pd.concat([pop_df, df])"
   ]
  },
  {
   "cell_type": "code",
   "execution_count": 27,
   "metadata": {
    "colab": {
     "base_uri": "https://localhost:8080/",
     "height": 525
    },
    "id": "hbqmk3iby4pd",
    "outputId": "595f3b0a-cb6a-480b-8ec8-082cfb2b420a"
   },
   "outputs": [
    {
     "ename": "MergeError",
     "evalue": "No common columns to perform merge on. Merge options: left_on=None, right_on=None, left_index=False, right_index=False",
     "output_type": "error",
     "traceback": [
      "\u001b[0;31m---------------------------------------------------------------------------\u001b[0m",
      "\u001b[0;31mMergeError\u001b[0m                                Traceback (most recent call last)",
      "\u001b[0;32m<ipython-input-27-837f3f319239>\u001b[0m in \u001b[0;36m<module>\u001b[0;34m\u001b[0m\n\u001b[0;32m----> 1\u001b[0;31m \u001b[0mcombined\u001b[0m \u001b[0;34m=\u001b[0m \u001b[0malc_df\u001b[0m\u001b[0;34m.\u001b[0m\u001b[0mmerge\u001b[0m\u001b[0;34m(\u001b[0m\u001b[0mpop_df\u001b[0m\u001b[0;34m,\u001b[0m \u001b[0mhow\u001b[0m \u001b[0;34m=\u001b[0m \u001b[0;34m\"left\"\u001b[0m\u001b[0;34m)\u001b[0m\u001b[0;34m\u001b[0m\u001b[0;34m\u001b[0m\u001b[0m\n\u001b[0m\u001b[1;32m      2\u001b[0m \u001b[0mcombined\u001b[0m\u001b[0;34m[\u001b[0m\u001b[0mcombined\u001b[0m\u001b[0;34m[\u001b[0m\u001b[0;34m\"year\"\u001b[0m\u001b[0;34m]\u001b[0m\u001b[0;34m.\u001b[0m\u001b[0mequals\u001b[0m\u001b[0;34m(\u001b[0m\u001b[0mcombined\u001b[0m\u001b[0;34m[\u001b[0m\u001b[0;34m\"Year\"\u001b[0m\u001b[0;34m]\u001b[0m\u001b[0;34m)\u001b[0m\u001b[0;34m]\u001b[0m\u001b[0;34m\u001b[0m\u001b[0;34m\u001b[0m\u001b[0m\n",
      "\u001b[0;32m~/.local/lib/python3.8/site-packages/pandas/core/frame.py\u001b[0m in \u001b[0;36mmerge\u001b[0;34m(self, right, how, on, left_on, right_on, left_index, right_index, sort, suffixes, copy, indicator, validate)\u001b[0m\n\u001b[1;32m   9188\u001b[0m         \u001b[0;32mfrom\u001b[0m \u001b[0mpandas\u001b[0m\u001b[0;34m.\u001b[0m\u001b[0mcore\u001b[0m\u001b[0;34m.\u001b[0m\u001b[0mreshape\u001b[0m\u001b[0;34m.\u001b[0m\u001b[0mmerge\u001b[0m \u001b[0;32mimport\u001b[0m \u001b[0mmerge\u001b[0m\u001b[0;34m\u001b[0m\u001b[0;34m\u001b[0m\u001b[0m\n\u001b[1;32m   9189\u001b[0m \u001b[0;34m\u001b[0m\u001b[0m\n\u001b[0;32m-> 9190\u001b[0;31m         return merge(\n\u001b[0m\u001b[1;32m   9191\u001b[0m             \u001b[0mself\u001b[0m\u001b[0;34m,\u001b[0m\u001b[0;34m\u001b[0m\u001b[0;34m\u001b[0m\u001b[0m\n\u001b[1;32m   9192\u001b[0m             \u001b[0mright\u001b[0m\u001b[0;34m,\u001b[0m\u001b[0;34m\u001b[0m\u001b[0;34m\u001b[0m\u001b[0m\n",
      "\u001b[0;32m~/.local/lib/python3.8/site-packages/pandas/core/reshape/merge.py\u001b[0m in \u001b[0;36mmerge\u001b[0;34m(left, right, how, on, left_on, right_on, left_index, right_index, sort, suffixes, copy, indicator, validate)\u001b[0m\n\u001b[1;32m    104\u001b[0m     \u001b[0mvalidate\u001b[0m\u001b[0;34m:\u001b[0m \u001b[0mstr\u001b[0m \u001b[0;34m|\u001b[0m \u001b[0;32mNone\u001b[0m \u001b[0;34m=\u001b[0m \u001b[0;32mNone\u001b[0m\u001b[0;34m,\u001b[0m\u001b[0;34m\u001b[0m\u001b[0;34m\u001b[0m\u001b[0m\n\u001b[1;32m    105\u001b[0m ) -> DataFrame:\n\u001b[0;32m--> 106\u001b[0;31m     op = _MergeOperation(\n\u001b[0m\u001b[1;32m    107\u001b[0m         \u001b[0mleft\u001b[0m\u001b[0;34m,\u001b[0m\u001b[0;34m\u001b[0m\u001b[0;34m\u001b[0m\u001b[0m\n\u001b[1;32m    108\u001b[0m         \u001b[0mright\u001b[0m\u001b[0;34m,\u001b[0m\u001b[0;34m\u001b[0m\u001b[0;34m\u001b[0m\u001b[0m\n",
      "\u001b[0;32m~/.local/lib/python3.8/site-packages/pandas/core/reshape/merge.py\u001b[0m in \u001b[0;36m__init__\u001b[0;34m(self, left, right, how, on, left_on, right_on, axis, left_index, right_index, sort, suffixes, copy, indicator, validate)\u001b[0m\n\u001b[1;32m    679\u001b[0m             \u001b[0mwarnings\u001b[0m\u001b[0;34m.\u001b[0m\u001b[0mwarn\u001b[0m\u001b[0;34m(\u001b[0m\u001b[0mmsg\u001b[0m\u001b[0;34m,\u001b[0m \u001b[0mFutureWarning\u001b[0m\u001b[0;34m,\u001b[0m \u001b[0mstacklevel\u001b[0m\u001b[0;34m=\u001b[0m\u001b[0;36m3\u001b[0m\u001b[0;34m)\u001b[0m\u001b[0;34m\u001b[0m\u001b[0;34m\u001b[0m\u001b[0m\n\u001b[1;32m    680\u001b[0m \u001b[0;34m\u001b[0m\u001b[0m\n\u001b[0;32m--> 681\u001b[0;31m         \u001b[0mself\u001b[0m\u001b[0;34m.\u001b[0m\u001b[0m_validate_specification\u001b[0m\u001b[0;34m(\u001b[0m\u001b[0;34m)\u001b[0m\u001b[0;34m\u001b[0m\u001b[0;34m\u001b[0m\u001b[0m\n\u001b[0m\u001b[1;32m    682\u001b[0m \u001b[0;34m\u001b[0m\u001b[0m\n\u001b[1;32m    683\u001b[0m         \u001b[0mcross_col\u001b[0m \u001b[0;34m=\u001b[0m \u001b[0;32mNone\u001b[0m\u001b[0;34m\u001b[0m\u001b[0;34m\u001b[0m\u001b[0m\n",
      "\u001b[0;32m~/.local/lib/python3.8/site-packages/pandas/core/reshape/merge.py\u001b[0m in \u001b[0;36m_validate_specification\u001b[0;34m(self)\u001b[0m\n\u001b[1;32m   1344\u001b[0m                 \u001b[0mcommon_cols\u001b[0m \u001b[0;34m=\u001b[0m \u001b[0mleft_cols\u001b[0m\u001b[0;34m.\u001b[0m\u001b[0mintersection\u001b[0m\u001b[0;34m(\u001b[0m\u001b[0mright_cols\u001b[0m\u001b[0;34m)\u001b[0m\u001b[0;34m\u001b[0m\u001b[0;34m\u001b[0m\u001b[0m\n\u001b[1;32m   1345\u001b[0m                 \u001b[0;32mif\u001b[0m \u001b[0mlen\u001b[0m\u001b[0;34m(\u001b[0m\u001b[0mcommon_cols\u001b[0m\u001b[0;34m)\u001b[0m \u001b[0;34m==\u001b[0m \u001b[0;36m0\u001b[0m\u001b[0;34m:\u001b[0m\u001b[0;34m\u001b[0m\u001b[0;34m\u001b[0m\u001b[0m\n\u001b[0;32m-> 1346\u001b[0;31m                     raise MergeError(\n\u001b[0m\u001b[1;32m   1347\u001b[0m                         \u001b[0;34m\"No common columns to perform merge on. \"\u001b[0m\u001b[0;34m\u001b[0m\u001b[0;34m\u001b[0m\u001b[0m\n\u001b[1;32m   1348\u001b[0m                         \u001b[0;34mf\"Merge options: left_on={self.left_on}, \"\u001b[0m\u001b[0;34m\u001b[0m\u001b[0;34m\u001b[0m\u001b[0m\n",
      "\u001b[0;31mMergeError\u001b[0m: No common columns to perform merge on. Merge options: left_on=None, right_on=None, left_index=False, right_index=False"
     ]
    }
   ],
   "source": [
    "combined = alc_df.merge(pop_df, how = \"left\")\n",
    "combined[combined[\"year\"].equals(combined[\"Year\"])]"
   ]
  },
  {
   "cell_type": "code",
   "execution_count": null,
   "metadata": {},
   "outputs": [],
   "source": []
  }
 ],
 "metadata": {
  "colab": {
   "provenance": []
  },
  "kernelspec": {
   "display_name": "Python 3",
   "language": "python",
   "name": "python3"
  },
  "language_info": {
   "codemirror_mode": {
    "name": "ipython",
    "version": 3
   },
   "file_extension": ".py",
   "mimetype": "text/x-python",
   "name": "python",
   "nbconvert_exporter": "python",
   "pygments_lexer": "ipython3",
   "version": "3.8.8"
  }
 },
 "nbformat": 4,
 "nbformat_minor": 4
}
